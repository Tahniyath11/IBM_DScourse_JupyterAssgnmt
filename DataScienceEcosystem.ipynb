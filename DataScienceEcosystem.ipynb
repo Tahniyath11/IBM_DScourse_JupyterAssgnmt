{
 "cells": [
  {
   "cell_type": "markdown",
   "id": "0a288f2c-856b-43c0-bcbb-c35aa382b5f3",
   "metadata": {},
   "source": [
    "#### Create markdown cell with title of the notebook"
   ]
  },
  {
   "cell_type": "markdown",
   "id": "27853bb4-aad4-4ee9-9653-e61d6aad5ba3",
   "metadata": {},
   "source": [
    "# Data Science Tools and Ecosystem"
   ]
  },
  {
   "cell_type": "markdown",
   "id": "7b4f4fbe-453e-4253-98ab-0889474982a9",
   "metadata": {},
   "source": [
    "# Data Science Tools and Ecosystem"
   ]
  },
  {
   "cell_type": "markdown",
   "id": "f2c032fb-61b5-4521-bd11-fbf1fa9f203e",
   "metadata": {},
   "source": [
    "#### Create a markdown cell for an introduction"
   ]
  },
  {
   "cell_type": "markdown",
   "id": "e5bfad2d-b640-4669-87be-ac7f807d4a74",
   "metadata": {},
   "source": [
    "## In this notebook, Data Science Tools and Ecosystem are summarized."
   ]
  },
  {
   "cell_type": "markdown",
   "id": "6dd3d931-833c-4e17-a037-bcbf60fd30ed",
   "metadata": {},
   "source": [
    "## In this notebook, Data Science Tools and Ecosystem are summarized."
   ]
  },
  {
   "cell_type": "markdown",
   "id": "c201699e-7dc2-46ec-81f3-0833bc08682d",
   "metadata": {},
   "source": [
    "###  Insert a markdown cell to list Objectives"
   ]
  },
  {
   "cell_type": "markdown",
   "id": "2f824556-7925-436f-9c9a-86a4e6cfcb9c",
   "metadata": {},
   "source": [
    "**Objectives:**  "
   ]
  },
  {
   "cell_type": "markdown",
   "id": "2adb988b-b7a3-4733-a51e-f2e700170576",
   "metadata": {},
   "source": [
    "**Objectives:**  "
   ]
  },
  {
   "cell_type": "markdown",
   "id": "a8696714-0e84-4233-9df3-5ce0841d8a14",
   "metadata": {},
   "source": [
    "- List popular languages for Data Science\n",
    "- List commonly used libraries used by Data Scientists\n",
    "- List few examples of evaluating arithmetic expressions in Python\n",
    "- Create a code cell to convert minutes to hours"
   ]
  },
  {
   "cell_type": "markdown",
   "id": "be1d2ed2-ed89-49e8-86c4-85093e3a6d19",
   "metadata": {},
   "source": [
    "- List popular languages for Data Science\n",
    "- List commonly used libraries used by Data Scientists\n",
    "- List few examples of evaluating arithmetic expressions in Python\n",
    "- Create a code cell to convert minutes to hours"
   ]
  },
  {
   "cell_type": "markdown",
   "id": "701f876b-3235-43f1-a01d-40347da7da1b",
   "metadata": {},
   "source": [
    "#### Create a markdown cell to list data science languages"
   ]
  },
  {
   "cell_type": "markdown",
   "id": "e96ba164-65b1-488b-be74-039946409d3a",
   "metadata": {},
   "source": [
    "### Some of the popular languages that Data Scientists use are:\n",
    "1. Python\n",
    "2. Java\n",
    "3. Julia\n",
    "4. C"
   ]
  },
  {
   "cell_type": "markdown",
   "id": "158ad9e6-f3ba-415e-a78d-f68b2f334bdc",
   "metadata": {},
   "source": [
    "### Some of the popular languages that Data Scientists use are:\n",
    "1. Python\n",
    "2. Java\n",
    "3. Julia\n",
    "4. C"
   ]
  },
  {
   "cell_type": "markdown",
   "id": "b9a79503-b6d7-438e-9e27-eafd6fab0d64",
   "metadata": {},
   "source": [
    "#### Create a markdown cell to list data science libraries"
   ]
  },
  {
   "cell_type": "markdown",
   "id": "3c0c8eec-7c6d-4890-b94c-aab838060fd2",
   "metadata": {},
   "source": [
    "### Some of the commonly used libraries used by Data Scientists include:\n",
    "1. Numpy\n",
    "2. Pytorch\n",
    "3. Matplotlib\n",
    "4. Seaborn"
   ]
  },
  {
   "cell_type": "markdown",
   "id": "ca54cffb-843b-429a-843a-d297dfaa47c3",
   "metadata": {},
   "source": [
    "### Some of the commonly used libraries used by Data Scientists include:\n",
    "1. Numpy\n",
    "2. Pytorch\n",
    "3. Matplotlib\n",
    "4. Seaborn"
   ]
  },
  {
   "cell_type": "markdown",
   "id": "8aa27c93-2724-4546-8f71-9ee93a5a531f",
   "metadata": {},
   "source": [
    "## Create a markdown cell with a table of Data Science tools"
   ]
  },
  {
   "cell_type": "markdown",
   "id": "c74f13d6-4ff1-4062-8b94-9e1b3009de3f",
   "metadata": {},
   "source": [
    "| Data Science Tools |\n",
    "| -------------|\n",
    "| Jupyter |\n",
    "| R Studio |\n",
    "| Anaconda |"
   ]
  },
  {
   "cell_type": "markdown",
   "id": "33e19e7a-ac99-4172-b0db-9046099d6d4f",
   "metadata": {},
   "source": [
    "| Data Science Tools |\n",
    "| -------------|\n",
    "| Jupyter |\n",
    "| R Studio |\n",
    "| Anaconda |"
   ]
  },
  {
   "cell_type": "markdown",
   "id": "4380efce-eaee-403c-b510-521499db79c4",
   "metadata": {},
   "source": [
    "### Create a markdown cell introducing arithmetic expression examples"
   ]
  },
  {
   "cell_type": "markdown",
   "id": "3e39c680-5725-4d5a-bbca-cbe3387dafe2",
   "metadata": {},
   "source": [
    "### Below are a few examples of evaluating arithmetic expressions in Python"
   ]
  },
  {
   "cell_type": "markdown",
   "id": "ea30cb91-45e8-4d64-87c3-112e892f2fcd",
   "metadata": {},
   "source": [
    "### Below are a few examples of evaluating arithmetic expressions in Python"
   ]
  },
  {
   "cell_type": "markdown",
   "id": "9a3bbba0-113b-4dbd-b61e-a58fff9e6a31",
   "metadata": {},
   "source": [
    "### Create a code cell to multiply and add numbers"
   ]
  },
  {
   "cell_type": "markdown",
   "id": "355b632b-f667-49ed-8e8b-1f6da1de1c43",
   "metadata": {},
   "source": [
    "#### This a simple arithmetic expression to mutiply then add integers"
   ]
  },
  {
   "cell_type": "markdown",
   "id": "cb5f72bf-fb2a-4ff7-9fa1-34fcf69d5a39",
   "metadata": {},
   "source": [
    "#### This a simple arithmetic expression to mutiply then add integers"
   ]
  },
  {
   "cell_type": "code",
   "execution_count": 1,
   "id": "65bb85a1-28f0-4529-8ce2-4af696734da4",
   "metadata": {
    "tags": []
   },
   "outputs": [
    {
     "data": {
      "text/plain": [
       "17"
      ]
     },
     "execution_count": 1,
     "metadata": {},
     "output_type": "execute_result"
    }
   ],
   "source": [
    "(3*4)+5"
   ]
  },
  {
   "cell_type": "markdown",
   "id": "80aa8432-34b6-4e41-bfe4-1000f1eb5c72",
   "metadata": {},
   "source": [
    "## Create a code cell to convert minutes to hours"
   ]
  },
  {
   "cell_type": "markdown",
   "id": "605ba7c7-5d37-4875-bc31-882ccfc36eca",
   "metadata": {},
   "source": [
    "### This will convert 200 minutes to hours by diving by 60"
   ]
  },
  {
   "cell_type": "markdown",
   "id": "5e8805b9-3e62-4326-ba8c-e642f18c4ab3",
   "metadata": {},
   "source": [
    "### This will convert 200 minutes to hours by diving by 60"
   ]
  },
  {
   "cell_type": "code",
   "execution_count": 2,
   "id": "babc799b-0373-45b1-bb06-8028ed8973a0",
   "metadata": {
    "tags": []
   },
   "outputs": [
    {
     "data": {
      "text/plain": [
       "3.3333333333333335"
      ]
     },
     "execution_count": 2,
     "metadata": {},
     "output_type": "execute_result"
    }
   ],
   "source": [
    "200/60"
   ]
  },
  {
   "cell_type": "markdown",
   "id": "a9beb9f1-3e22-41a2-8c84-a215860a1a84",
   "metadata": {},
   "source": [
    "### Create a markdown cell to indicate the Author's name"
   ]
  },
  {
   "cell_type": "markdown",
   "id": "39a43731-a579-4686-b3b3-7f5b218b2809",
   "metadata": {},
   "source": [
    "## Author\n",
    "Tahniyath Fathima"
   ]
  },
  {
   "cell_type": "markdown",
   "id": "bfcb9ede-74c6-4456-8b93-e5eaa155de96",
   "metadata": {},
   "source": [
    "## Author\n",
    "Tahniyath Fathima"
   ]
  },
  {
   "cell_type": "code",
   "execution_count": null,
   "id": "b76b9f8a-93de-4459-b705-e7ed506dc677",
   "metadata": {},
   "outputs": [],
   "source": []
  }
 ],
 "metadata": {
  "kernelspec": {
   "display_name": "Python",
   "language": "python",
   "name": "conda-env-python-py"
  },
  "language_info": {
   "codemirror_mode": {
    "name": "ipython",
    "version": 3
   },
   "file_extension": ".py",
   "mimetype": "text/x-python",
   "name": "python",
   "nbconvert_exporter": "python",
   "pygments_lexer": "ipython3",
   "version": "3.7.12"
  }
 },
 "nbformat": 4,
 "nbformat_minor": 5
}
